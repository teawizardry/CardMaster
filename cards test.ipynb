{
 "cells": [
  {
   "cell_type": "markdown",
   "metadata": {},
   "source": [
    "# Card Master Helper Script"
   ]
  },
  {
   "cell_type": "markdown",
   "metadata": {},
   "source": [
    "### Imports"
   ]
  },
  {
   "cell_type": "code",
   "execution_count": 1,
   "metadata": {},
   "outputs": [],
   "source": [
    "import numpy as np\n",
    "import pandas as pd\n",
    "import d20 as d20\n",
    "import openpyxl as excel\n",
    "from openpyxl.utils.dataframe import dataframe_to_rows"
   ]
  },
  {
   "cell_type": "markdown",
   "metadata": {},
   "source": [
    "### Character Information"
   ]
  },
  {
   "cell_type": "code",
   "execution_count": 2,
   "metadata": {},
   "outputs": [],
   "source": [
    "# Enter current character information here:\n",
    "level = 4\n",
    "name = 'Arael Lovebite'\n",
    "data = 'data.xlsx'"
   ]
  },
  {
   "cell_type": "markdown",
   "metadata": {},
   "source": [
    "### Class"
   ]
  },
  {
   "cell_type": "code",
   "execution_count": 22,
   "metadata": {},
   "outputs": [],
   "source": [
    "class CardMaster:\n",
    "    def __init__(self, level, name, data):\n",
    "        self.level = level\n",
    "        self.name = name\n",
    "        self.data = data\n",
    "        self.random_state = np.random.default_rng()\n",
    "    \n",
    "    def CardCollection():\n",
    "        ''' Display your total card collection (spells known) '''\n",
    "        card_collection = pd.read_excel(data, sheet_name='Card Collection', header=None, names=['Spell', 'Level'])\n",
    "        print(card_collection)\n",
    "        return\n",
    "\n",
    "    def AddCard(self, spell):\n",
    "        ''' Add a card to your collection '''\n",
    "        # load relavent data\n",
    "        spell_list = pd.read_excel(data, sheet_name='Spell List', header=None, names=['Spell', 'Level'])\n",
    "        chart = pd.read_excel(data, sheet_name='Chart')\n",
    "        card_collection = pd.read_excel(data, sheet_name='Card Collection', header=None, names=['Spell', 'Level'])\n",
    "\n",
    "        # check to see if spell is in your card collection\n",
    "        if any(card_collection['Spell'].str.contains(spell)):\n",
    "            print('That spell is already in your card collection!')\n",
    "            return\n",
    "\n",
    "        # check to see if spell is in spell list\n",
    "        if any(spell_list['Spell'].str.contains(spell)):\n",
    "            pass\n",
    "        else:\n",
    "            print('That spell is not in the Card Master spell list! Check your spelling or the spell list in the Excel file.')\n",
    "            return\n",
    "\n",
    "        # check to see if the level is correct\n",
    "        if spell_list[spell_list['Spell'].str.contains(spell)]['Level'].to_numpy() <= chart.loc[chart['Level'] == level]['Max Level'].to_numpy():\n",
    "            pass\n",
    "        else:\n",
    "            print('That spell is too high of level! Try manually adding it to the Excel file if this is in error.')\n",
    "            return\n",
    "\n",
    "        # open excel file\n",
    "        workbook = excel.load_workbook(filename=data)\n",
    "        card_collection = workbook['Card Collection']\n",
    "        # add spell and level\n",
    "        card_collection = pd.concat([card_collection, spell_list[spell_list['Spell'].str.contains(spell)]], axis=0)\n",
    "        # save\n",
    "        workbook.save(filename=data)\n",
    "        return\n",
    "\n",
    "    def BuildDeck():\n",
    "        # Prepare your 20 card deck\n",
    "        return\n",
    "\n",
    "    def DrawHand(self):\n",
    "        ''' Draw five cards '''\n",
    "        deck = pd.read_excel(data, sheet_name='Deck', header=None, names=['Spell', 'Level'])        \n",
    "        # draw hand\n",
    "        hand = deck.sample(n=5, random_state=self.random_state)\n",
    "        print('Hand: \\n',hand)\n",
    "        # remove from deck\n",
    "        deck.drop(index=hand.index, inplace=True)\n",
    "        print('Remaining Deck: \\n', deck)\n",
    "        # update excel\n",
    "        workbook = excel.load_workbook(filename=data)\n",
    "\n",
    "        deck_sheet = workbook['Deck']\n",
    "        deck_sheet.delete_cols(1,2)\n",
    "        deck_sheet.delete_rows(1)\n",
    "        for r in dataframe_to_rows(deck, index=False, header=False):\n",
    "            deck_sheet.append(r)\n",
    "\n",
    "        hand_sheet = workbook['Hand']\n",
    "        hand_sheet.delete_cols(1,2)\n",
    "        hand_sheet.delete_rows(1)\n",
    "        for r in dataframe_to_rows(hand, index=False, header=False):\n",
    "            hand_sheet.append(r)\n",
    "\n",
    "        # save\n",
    "        workbook.save(filename=data)\n",
    "        return\n",
    "\n",
    "    def DrawCard(self):\n",
    "        ''' Draw one card '''\n",
    "        deck = pd.read_excel(data, sheet_name='Deck', header=None, names=['Spell', 'Level'])\n",
    "        hand = pd.read_excel(data, sheet_name='Hand', header=None, names=['Spell', 'Level'])        \n",
    "        # draw hand\n",
    "        hand = pd.concat([hand, deck.sample(n=1, random_state=self.random_state)], axis=0)\n",
    "        print('Hand: \\n',hand)\n",
    "        # remove from deck\n",
    "        deck.drop(index=hand.index, inplace=True)\n",
    "        print('Remaining Deck: \\n', deck)\n",
    "        # update excel\n",
    "        workbook = excel.load_workbook(filename=data)\n",
    "        deck_sheet = workbook['Deck']\n",
    "        deck_sheet.delete_cols(1,2)\n",
    "        deck_sheet.delete_rows(1)\n",
    "        for r in dataframe_to_rows(deck, index=False, header=False):\n",
    "            deck_sheet.append(r)\n",
    "        # save\n",
    "        workbook.save(filename=data)\n",
    "        return\n",
    "\n",
    "    def DiscardPile():\n",
    "        ''' View discard pile '''\n",
    "        discard_collection = pd.read_excel(data, sheet_name='Discard', header=None, names=['Spell', 'Level'])\n",
    "        print(discard_collection)\n",
    "        return\n",
    "    \n",
    "    def DiscardCard(self, card):\n",
    "        ''' Discard card from hand '''\n",
    "        discard = pd.read_excel(data, sheet_name='Discard', header=None, names=['Spell', 'Level'])\n",
    "        hand = pd.read_excel(data, sheet_name='Hand', header=None, names=['Spell', 'Level'])\n",
    "\n",
    "        # check to see if card is in your hand\n",
    "        if any(hand['Spell'].str.contains(card)):\n",
    "            pass\n",
    "        else:\n",
    "            print('That card is not in your hand!')\n",
    "\n",
    "        # remove from hand\n",
    "        ind = hand[hand['Spell'].str.contains(card)].iloc[:1]\n",
    "        hand.drop(index=ind.index, inplace=True)\n",
    "        print('Remaining Hand: \\n', hand)\n",
    "\n",
    "        # add to discard pile\n",
    "        discard = pd.concat([discard, ind], axis=0)\n",
    "\n",
    "        # update excel\n",
    "        workbook = excel.load_workbook(filename=data)\n",
    "        hand_sheet = workbook['Hand']\n",
    "        hand_sheet.delete_cols(1,2)\n",
    "        hand_sheet.delete_rows(1)\n",
    "        for r in dataframe_to_rows(hand, index=False, header=False):\n",
    "            hand_sheet.append(r)\n",
    "        \n",
    "        discard_sheet = workbook['Discard']\n",
    "        discard_sheet.delete_cols(1,2)\n",
    "        discard_sheet.delete_rows(1)\n",
    "        for r in dataframe_to_rows(discard, index=False, header=False):\n",
    "            discard_sheet.append(r)\n",
    "\n",
    "        # save\n",
    "        workbook.save(filename=data)\n",
    "        return\n",
    "\n",
    "    def ReshuffleCard():\n",
    "        # Reshuffle one card from hand into deck\n",
    "        return\n",
    "\n",
    "    def FullHouse():\n",
    "        # Return 5 cards from discard to deck\n",
    "        return\n",
    "\n"
   ]
  },
  {
   "cell_type": "markdown",
   "metadata": {},
   "source": [
    "### Testing"
   ]
  },
  {
   "cell_type": "code",
   "execution_count": 23,
   "metadata": {},
   "outputs": [],
   "source": [
    "CardMaster = CardMaster(level, name, data)"
   ]
  },
  {
   "cell_type": "code",
   "execution_count": 16,
   "metadata": {},
   "outputs": [
    {
     "name": "stdout",
     "output_type": "stream",
     "text": [
      "Hand: \n",
      "             Spell  Level\n",
      "11          Blank    NaN\n",
      "3            Blur    2.0\n",
      "0    Charm Person    1.0\n",
      "14          Blank    NaN\n",
      "2   Burning Hands    1.0\n",
      "Remaining Deck: \n",
      "                Spell  Level\n",
      "1        Color Spray    1.0\n",
      "4               Blur    2.0\n",
      "5         Chaos Bolt    1.0\n",
      "6      Chromatic Orb    1.0\n",
      "7   Cloud of Daggers    2.0\n",
      "8   Cloud of Daggers    2.0\n",
      "9              Blank    NaN\n",
      "10             Blank    NaN\n",
      "12             Blank    NaN\n",
      "13             Blank    NaN\n",
      "15             Blank    NaN\n",
      "16             Blank    NaN\n",
      "17             Blank    NaN\n",
      "18             Blank    NaN\n",
      "19             Blank    NaN\n"
     ]
    }
   ],
   "source": [
    "CardMaster.DrawHand()"
   ]
  },
  {
   "cell_type": "code",
   "execution_count": 35,
   "metadata": {},
   "outputs": [],
   "source": []
  },
  {
   "cell_type": "code",
   "execution_count": 24,
   "metadata": {},
   "outputs": [
    {
     "name": "stdout",
     "output_type": "stream",
     "text": [
      "Remaining Hand: \n",
      "            Spell  Level\n",
      "1           Blur    2.0\n",
      "2   Charm Person    1.0\n",
      "3          Blank    NaN\n",
      "4  Burning Hands    1.0\n"
     ]
    }
   ],
   "source": [
    "Card = 'Blank'\n",
    "\n",
    "CardMaster.DiscardCard(card=Card)"
   ]
  }
 ],
 "metadata": {
  "interpreter": {
   "hash": "fd4e1a4e143a051b1e6beedabce11aee67d4cee4419cf4bba7ccec36e8c40b89"
  },
  "kernelspec": {
   "display_name": "Python 3.9.5 ('DnD')",
   "language": "python",
   "name": "python3"
  },
  "language_info": {
   "codemirror_mode": {
    "name": "ipython",
    "version": 3
   },
   "file_extension": ".py",
   "mimetype": "text/x-python",
   "name": "python",
   "nbconvert_exporter": "python",
   "pygments_lexer": "ipython3",
   "version": "3.9.5"
  },
  "orig_nbformat": 4
 },
 "nbformat": 4,
 "nbformat_minor": 2
}
